{
 "cells": [
  {
   "cell_type": "code",
   "execution_count": 5,
   "metadata": {},
   "outputs": [
    {
     "name": "stdout",
     "output_type": "stream",
     "text": [
      "[-0.036572 -0.027295 -0.021192 -0.012891 -0.007764 -0.003858 -0.00044 ] [ 50.922966  65.512749  83.600433  94.438674  95.209285 138.367082\n",
      " 156.305455]\n",
      "fitted value of M: 122.07055260705121 x10^30\n"
     ]
    },
    {
     "name": "stderr",
     "output_type": "stream",
     "text": [
      "/home/pusan/.local/lib/python3.6/site-packages/ipykernel_launcher.py:15: RuntimeWarning: invalid value encountered in double_scalars\n",
      "  from ipykernel import kernelapp as app\n"
     ]
    },
    {
     "data": {
      "text/plain": [
       "[<matplotlib.lines.Line2D at 0x7f504ad13ba8>]"
      ]
     },
     "execution_count": 5,
     "metadata": {},
     "output_type": "execute_result"
    },
    {
     "data": {
      "image/png": "[encoded data removed]",
      "text/plain": [
       "<Figure size 432x288 with 1 Axes>"
      ]
     },
     "metadata": {
      "needs_background": "light"
     },
     "output_type": "display_data"
    }
   ],
   "source": [
    "import numpy as np\n",
    "from scipy.optimize import curve_fit\n",
    "import matplotlib.pyplot as plt\n",
    "\n",
    "#to fit gravitational wave time-frequency relation\n",
    "data=np.loadtxt('tempo.tmp',delimiter=',')\n",
    "time=data[:,0]\n",
    "freq=data[:,1]\n",
    "print(time,freq)\n",
    "def foo(t,M):\n",
    "    G=6.674\n",
    "    c=3\n",
    "    tc=0.0\n",
    "    const=((8.0*np.pi)**(8.0/3)/5)*(G/c**3)**(5.0/3)\n",
    "    f=const*(tc-t)*M**(5.0/3)\n",
    "    f=np.power(f,-(3.0/8.0))\n",
    "    return f\n",
    "plt.scatter(time,freq)\n",
    "p_opt,p_cov = curve_fit(foo,time,freq)\n",
    "print('fitted value of M:',p_opt[0]*1.0e+5,'x10^30')\n",
    "plt.plot(time,foo(time,*p_opt),label='Best Fit',color='g')\n",
    "\n",
    "#to fit background noise from messier3\n",
    "#data=np.loadtxt('temp_Growth.tmp',delimiter=',')\n",
    "#bins=data[:,0]\n",
    "#num_pixels=data[:,1]\n",
    "#print(bins,num_pixels)\n",
    "#def gaussian(x,b,c,a):\n",
    "#    return a*np.exp(-np.power((x-b),2)/(2*np.power(c,2)))\n",
    "#plt.grid()\n",
    "#plt.scatter(bins,num_pixels,marker='+')\n",
    "#p_opt,p_cov = curve_fit(gaussian,bins,num_pixels,p0=np.array([520,10,100]))\n",
    "#print('fitted value of b,c:',p_opt[0],'.',p_opt[1])\n",
    "#plt.plot(bins,gaussian(bins,*p_opt),label='Best Fit',color='g')"
   ]
  },
  {
   "cell_type": "code",
   "execution_count": null,
   "metadata": {},
   "outputs": [],
   "source": []
  }
 ],
 "metadata": {
  "kernelspec": {
   "display_name": "Python 3",
   "language": "python",
   "name": "python3"
  },
  "language_info": {
   "codemirror_mode": {
    "name": "ipython",
    "version": 3
   },
   "file_extension": ".py",
   "mimetype": "text/x-python",
   "name": "python",
   "nbconvert_exporter": "python",
   "pygments_lexer": "ipython3",
   "version": "3.6.9"
  }
 },
 "nbformat": 4,
 "nbformat_minor": 4
}
