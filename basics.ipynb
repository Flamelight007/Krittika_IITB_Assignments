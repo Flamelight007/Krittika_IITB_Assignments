{
 "cells": [
  {
   "cell_type": "code",
   "execution_count": 23,
   "metadata": {},
   "outputs": [
    {
     "name": "stdout",
     "output_type": "stream",
     "text": [
      "[('Saturn', 0), ('Saturn', 0), ('Jupiter', 0), ('Jupiter', 0), ('Jupiter', 0), ('Jupiter', 0), ('Jupiter', 0), ('Jupiter', 0), ('Jupiter', 0), ('Jupiter', 0), ('Jupiter', 0), ('Jupiter', 0), ('Jupiter', 0), ('Jupiter', 0), ('Jupiter', 0), ('Jupiter', 0), ('Jupiter', 0), ('Jupiter', 0), ('Jupiter', 0), ('Jupiter', 0), ('Jupiter', 0), ('Jupiter', 0), ('Jupiter', 0), ('Jupiter', 0), ('Jupiter', 0), ('Jupiter', 0), ('Jupiter', 0), ('Jupiter', 0), ('Jupiter', 0), ('Jupiter', 0), ('Jupiter', 0), ('Jupiter', 0), ('Jupiter', 0), ('Jupiter', 0), ('Jupiter', 0), ('Jupiter', 0), ('Saturn', 0), ('Jupiter', 0), ('Jupiter', 0), ('Saturn', 0), ('Jupiter', 0), ('Jupiter', 0), ('Jupiter', 0), ('Jupiter', 0), ('Jupiter', 0), ('Jupiter', 0), ('Jupiter', 0), ('Saturn', 0), ('Jupiter', 0), ('Jupiter', 0), ('Jupiter', 0), ('Jupiter', 0), ('Jupiter', 0), ('Jupiter', 0), ('Jupiter', 0), ('Saturn', 0), ('Jupiter', 0), ('Saturn', 0), ('Jupiter', 0), ('Jupiter', 0), ('Saturn', 0), ('Jupiter', 0), ('Jupiter', 0), ('Saturn', 0), ('Saturn', 0), ('Jupiter', 0), ('Jupiter', 0), ('Jupiter', 0), ('Jupiter', 0), ('Saturn', 0), ('Saturn', 0), ('Saturn', 0), ('Saturn', 0), ('Saturn', 0), ('Saturn', 0), ('Saturn', 0), ('Saturn', 0), ('Saturn', 0), ('Jupiter', 0), ('Saturn', 0), ('Saturn', 0), ('Saturn', 0), ('Saturn', 0), ('Saturn', 0), ('Saturn', 0), ('Saturn', 0), ('Saturn', 0), ('Saturn', 0), ('Saturn', 0), ('Saturn', 0), ('Saturn', 0), ('Saturn', 0), ('Saturn', 0), ('Saturn', 0), ('Jupiter', 0), ('Saturn', 0), ('Saturn', 0), ('Saturn', 0), ('Saturn', 0), ('Saturn', 0), ('Saturn', 0), ('Saturn', 0), ('Saturn', 0), ('Saturn', 0), ('Saturn', 0), ('Saturn', 0), ('Saturn', 0), ('Saturn', 0), ('Saturn', 0), ('Saturn', 0), ('Saturn', 0), ('Saturn', 0), ('Saturn', 0), ('Saturn', 0), ('Saturn', 0), ('Jupiter', 0), ('Jupiter', 0), ('Saturn', 0), ('Uranus', 0), ('Saturn', 0), ('Saturn', 0), ('Uranus', 0), ('Saturn', 0), ('Uranus', 0), ('Uranus', 0), ('Mars', 0), ('Saturn', 0), ('Saturn', 0), ('Jupiter', 0), ('Saturn', 0), ('Uranus', 0), ('Uranus', 0), ('Saturn', 0), ('Jupiter', 0), ('Uranus', 0), ('Pluto', 0), ('Saturn', 0), ('Mars', 0), ('Saturn', 0), ('Saturn', 0), ('Pluto', 0), ('Jupiter', 0), ('Uranus', 0), ('Saturn', 0), ('Saturn', 0), ('Saturn', 0), ('Neptune', 0), ('Jupiter', 0), ('Jupiter', 0), ('Neptune', 0), ('Saturn', 0), ('Uranus', 0), ('Neptune', 0), ('Uranus', 0), ('Uranus', 0), ('Jupiter', 0), ('Neptune', 0), ('Jupiter', 0), ('Pluto', 0), ('Uranus', 0), ('Uranus', 0), ('Uranus', 0), ('Jupiter', 0), ('Neptune', 0), ('Pluto', 0), ('Neptune', 0), ('Uranus', 0), ('Neptune', 0), ('Uranus', 0), ('Uranus', 0), ('Uranus', 0), ('Saturn', 0), ('Neptune', 0), ('Jupiter', 0), ('Uranus', 0), ('Saturn', 0), ('Jupiter', 0), ('Saturn', 0), ('Jupiter', 0), ('Uranus', 0), ('Neptune', 0), ('Uranus', 0), ('Uranus', 0), ('Jupiter', 0), ('Neptune', 0), ('Saturn', 0), ('Neptune', 0), ('Saturn', 0), ('Saturn', 0), ('Neptune', 0), ('Saturn', 0), ('Neptune', 0), ('Uranus', 0), ('Saturn', 0), ('Saturn', 0), ('Saturn', 0), ('Uranus', 0), ('Uranus', 0), ('Pluto', 0), ('Saturn', 0), ('Uranus', 0), ('Saturn', 0), ('Uranus', 0), ('Neptune', 0), ('Jupiter', 0), ('Earth', 0), ('Jupiter', 0), ('Jupiter', 0), ('Saturn', 0)]\n"
     ]
    }
   ],
   "source": [
    "lines=[]\n",
    "with open('Moons_and_planets.csv','r')as f:\n",
    "    lines=f.read().split('\\n')\n",
    "data_moons=[]\n",
    "data_planets=[]\n",
    "data_size=[]\n",
    "for line in lines[1:]:\n",
    "    p=line.split(',')\n",
    "    if(len(p)==3):\n",
    "        data_moons.append(p[0])\n",
    "        data_planets.append(p[1])\n",
    "        data_size.append(float(p[2]))\n",
    "t=0\n",
    "data=[]\n",
    "for i in range(1,len(data_planets)):\n",
    "    if(data_planets[i]<>data_planets[i-1]):\n",
    "        data.append((data_planets[i-1],t+1))\n",
    "        t=0\n",
    "    elif(i==len(data_planets)-1 and data_planets[i]<>data_planets[i-1]):\n",
    "        data.append((data_planets[i],1))\n",
    "    else:\n",
    "        t+=1\n",
    "#print(data)\n",
    "#for i in range(len(data_size)):\n",
    "#    for j in range(i,len(data_size)):\n",
    "#        if(data_size[i]>data_size[j]):\n",
    "#            (data_moons[i],data_moons[j])=(data_moons[j],data_moons[i])\n",
    "#            (data_planets[i],data_planets[j])=(data_planets[j],data_planets[i])\n",
    "#            (data_size[i],data_size[j])=(data_size[j],data_size[i])\n",
    "#for i in range(len(data_moons)):    \n",
    "#    print(data_moons[i],data_planets[i],data_size[i])\n",
    "for i in range(1,len(lines)):\n",
    "    for j in range(i,len(lines)):\n",
    "        if(len(lines[i].split(','))==3 and len(lines[j].split(','))==3):\n",
    "            if(float(lines[i].split(',')[2])>float(lines[j].split(',')[2])):\n",
    "                (lines[i],lines[j])=(lines[j],lines[i])\n",
    "data=[]\n",
    "for i in range(1,len(lines)):\n",
    "    lines[i]=lines[i].split(',')\n",
    "for i in range(len(lines)):\n",
    "    t=0\n",
    "    k=False\n",
    "    for j in range(i+1,len(lines)):\n",
    "        if(len(lines[i])==3 and len(lines[j])==3):\n",
    "            if(lines[i][1]==lines[j][2]):\n",
    "                t+=1\n",
    "                lines[j]='Nothing'\n",
    "            k=True\n",
    "    if(k):\n",
    "        data.append((lines[i][1],t))\n",
    "print(data)\n",
    "        \n",
    "\n",
    "#for line in lines:\n",
    "#                print(line)"
   ]
  },
  {
   "cell_type": "code",
   "execution_count": null,
   "metadata": {},
   "outputs": [],
   "source": []
  },
  {
   "cell_type": "code",
   "execution_count": null,
   "metadata": {},
   "outputs": [],
   "source": []
  }
 ],
 "metadata": {
  "kernelspec": {
   "display_name": "Python 2",
   "language": "python",
   "name": "python2"
  },
  "language_info": {
   "codemirror_mode": {
    "name": "ipython",
    "version": 2
   },
   "file_extension": ".py",
   "mimetype": "text/x-python",
   "name": "python",
   "nbconvert_exporter": "python",
   "pygments_lexer": "ipython2",
   "version": "2.7.17"
  }
 },
 "nbformat": 4,
 "nbformat_minor": 4
}
