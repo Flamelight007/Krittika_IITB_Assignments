{
 "cells": [
  {
   "cell_type": "code",
   "execution_count": 14,
   "metadata": {},
   "outputs": [
    {
     "name": "stdout",
     "output_type": "stream",
     "text": [
      "159.9814397624894\n",
      "159.5464083490186\n"
     ]
    }
   ],
   "source": [
    "import numpy as np\n",
    "beehive_data = np.loadtxt('Beehive_data.csv', delimiter=',')\n",
    "indices = np.where(beehive_data[:, 2]>90) #The second column of the 2D array contains the probabilities\n",
    "high_prob = beehive_data[indices] #This now selects only the high probability stars\n",
    "logd = (high_prob[:,0] + 2.5*high_prob[:,1] + 0.17)/5 #First column contains apparent maginitudes\n",
    "                                                            #and the second the required log values\n",
    "d = 10**logd #We now have the distances of high probability stars in a 1D array\n",
    "sum_of_dist = 0\n",
    "for i in d: #Here we take the sum of all elements in the array\n",
    "    sum_of_dist = sum_of_dist + i\n",
    "dist_of_cluster= sum_of_dist/d.size #Answer is the average\n",
    "print(dist_of_cluster)\n",
    "\n",
    "logd_full = (beehive_data[:,0] + 2.5*beehive_data[:,1] + 0.17)/5 \n",
    "d_full = 10**logd_full\n",
    "weighted_dist = d_full * beehive_data[:,2] #Using the elementwise multiplication property\n",
    "weighted_sum = 0\n",
    "sum_of_weights = 0\n",
    "for i in range(0, weighted_dist.size):\n",
    "    weighted_sum = weighted_sum + weighted_dist[i] #Numerator in the weighted average formula\n",
    "    sum_of_weights = sum_of_weights + beehive_data[i,2] #Denominator in the weighted average formula\n",
    "weighted_dist_of_cluster = weighted_sum/sum_of_weights #Answer is Numerator/Denominator\n",
    "print(weighted_dist_of_cluster)"
   ]
  }
 ],
 "metadata": {
  "kernelspec": {
   "display_name": "Python 3",
   "language": "python",
   "name": "python3"
  },
  "language_info": {
   "codemirror_mode": {
    "name": "ipython",
    "version": 3
   },
   "file_extension": ".py",
   "mimetype": "text/x-python",
   "name": "python",
   "nbconvert_exporter": "python",
   "pygments_lexer": "ipython3",
   "version": "3.7.6"
  }
 },
 "nbformat": 4,
 "nbformat_minor": 4
}
