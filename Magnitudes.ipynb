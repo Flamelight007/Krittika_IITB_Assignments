{
 "cells": [
  {
   "cell_type": "code",
   "execution_count": 25,
   "metadata": {},
   "outputs": [
    {
     "name": "stdout",
     "output_type": "stream",
     "text": [
      "159.8015962235226\n",
      "159.5464083490186\n"
     ]
    }
   ],
   "source": [
    "import numpy as np\n",
    "beehive_data = np.loadtxt('Beehive_data.csv', delimiter=',')\n",
    "high_prob=beehive_data[np.where(beehive_data[:,2]>50) ]\n",
    "dist=np.power(10,(high_prob[:,0]+2.5*high_prob[:,1]+0.17)/5.0)\n",
    "print(np.mean(dist))\n",
    "\n",
    "dist=np.power(10,(beehive_data[:,0]+2.5*beehive_data[:,1]+0.17)/5.0)\n",
    "weight=beehive_data[:,2]\n",
    "print(np.average(dist,weights=weight))"
   ]
  },
  {
   "cell_type": "code",
   "execution_count": 9,
   "metadata": {},
   "outputs": [],
   "source": [
    "np.where?"
   ]
  },
  {
   "cell_type": "code",
   "execution_count": null,
   "metadata": {},
   "outputs": [],
   "source": []
  }
 ],
 "metadata": {
  "kernelspec": {
   "display_name": "Python 3",
   "language": "python",
   "name": "python3"
  },
  "language_info": {
   "codemirror_mode": {
    "name": "ipython",
    "version": 3
   },
   "file_extension": ".py",
   "mimetype": "text/x-python",
   "name": "python",
   "nbconvert_exporter": "python",
   "pygments_lexer": "ipython3",
   "version": "3.7.6"
  }
 },
 "nbformat": 4,
 "nbformat_minor": 4
}
