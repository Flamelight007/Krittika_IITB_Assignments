{
 "cells": [
  {
   "cell_type": "code",
   "execution_count": 81,
   "metadata": {},
   "outputs": [
    {
     "name": "stdout",
     "output_type": "stream",
     "text": [
      "1192.2156\n"
     ]
    }
   ],
   "source": [
    "import numpy as np\n",
    "f=np.loadtxt('galaxies.csv',delimiter=',')\n",
    "H0=70\n",
    "c=3*10**5\n",
    "#print(f)\n",
    "def distance(index):\n",
    "    myarr=f[np.where(f[:,0]==index)]\n",
    "    v=myarr[:,3]*c\n",
    "    return 1.0*v[0]/H0\n",
    "def numgal(up,down):\n",
    "    myarr=np.array([distance(i) for i in f[:,0]])\n",
    "    myarr=myarr[np.where(np.logical_and(myarr>=down, myarr<=up))]\n",
    "    return len(myarr)\n",
    "def seperation(ind1,ind2):\n",
    "    gal1=f[np.where(f[:,0]==ind1)][0]\n",
    "    gal2=f[np.where(f[:,0]==ind2)][0]\n",
    "    angsep=np.sin(gal1[2])*np.sin(gal2[2])\n",
    "    angsep+=np.cos(gal1[2])*np.cos(gal2[2])*np.cos(gal1[1]-gal2[1])\n",
    "    eqrad=np.minimum(distance(ind1),distance(ind2))*angsep\n",
    "    return np.sqrt((distance(ind1)-distance(ind2))**2+eqrad**2)\n",
    "print(np.amax(np.array([distance(i) for i in f[:,0]])))"
   ]
  },
  {
   "cell_type": "code",
   "execution_count": null,
   "metadata": {},
   "outputs": [],
   "source": []
  }
 ],
 "metadata": {
  "kernelspec": {
   "display_name": "Python 3",
   "language": "python",
   "name": "python3"
  },
  "language_info": {
   "codemirror_mode": {
    "name": "ipython",
    "version": 3
   },
   "file_extension": ".py",
   "mimetype": "text/x-python",
   "name": "python",
   "nbconvert_exporter": "python",
   "pygments_lexer": "ipython3",
   "version": "3.7.6"
  }
 },
 "nbformat": 4,
 "nbformat_minor": 4
}
